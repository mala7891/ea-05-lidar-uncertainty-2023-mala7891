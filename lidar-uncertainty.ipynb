{
 "cells": [
  {
   "cell_type": "code",
   "execution_count": null,
   "id": "0275e667",
   "metadata": {},
   "outputs": [],
   "source": [
    "# LiDAR Uncertainty at Soap and SJER NEON sites\n",
    "\n",
    "## The SOAP site\n",
    "![Soaproot Panorama](img/Soaproot_pano.jpeg)\n",
    "# Image credit: National Ecological Observation Network, available at https://www.neonscience.org/field-sites/soap        "
   ]
  },
  {
   "cell_type": "markdown",
   "id": "2b4541bb",
   "metadata": {},
   "source": []
  }
 ],
 "metadata": {
  "kernelspec": {
   "display_name": "Python 3 (ipykernel)",
   "language": "python",
   "name": "python3"
  },
  "language_info": {
   "codemirror_mode": {
    "name": "ipython",
    "version": 3
   },
   "file_extension": ".py",
   "mimetype": "text/x-python",
   "name": "python",
   "nbconvert_exporter": "python",
   "pygments_lexer": "ipython3",
   "version": "3.7.13"
  }
 },
 "nbformat": 4,
 "nbformat_minor": 5
}
